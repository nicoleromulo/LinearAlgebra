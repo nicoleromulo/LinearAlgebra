{
  "nbformat": 4,
  "nbformat_minor": 0,
  "metadata": {
    "colab": {
      "name": "Untitled0.ipynb",
      "provenance": [],
      "collapsed_sections": [],
      "authorship_tag": "ABX9TyN62eMZzawBJkxcrEDuHOpy",
      "include_colab_link": true
    },
    "kernelspec": {
      "name": "python3",
      "display_name": "Python 3"
    },
    "language_info": {
      "name": "python"
    }
  },
  "cells": [
    {
      "cell_type": "markdown",
      "metadata": {
        "id": "view-in-github",
        "colab_type": "text"
      },
      "source": [
        "<a href=\"https://colab.research.google.com/github/nicoleromulo/LinearAlgebra/blob/main/ROMULO_LabReport1.ipynb\" target=\"_parent\"><img src=\"https://colab.research.google.com/assets/colab-badge.svg\" alt=\"Open In Colab\"/></a>"
      ]
    },
    {
      "cell_type": "markdown",
      "metadata": {
        "id": "9hSrBuBx2ujv"
      },
      "source": [
        "# Welcome to Python Fundamentals\n",
        "In this module, we are going to establish our skills in Python programming. In this notebook we are going to cover:\n",
        "\n",
        "\n",
        "*   Variables and Data types\n",
        "*   Operations\n",
        "*   Input and Output Operations\n",
        "*   Logic control\n",
        "*   Iterables\n",
        "*   Functions\n",
        "\n"
      ]
    },
    {
      "cell_type": "markdown",
      "metadata": {
        "id": "XMig23ur2pqV"
      },
      "source": [
        ""
      ]
    },
    {
      "cell_type": "markdown",
      "metadata": {
        "id": "tSLv9ymK3Q8-"
      },
      "source": [
        "# Variables and Data Types"
      ]
    },
    {
      "cell_type": "markdown",
      "metadata": {
        "id": "o2QhWZMK8nk3"
      },
      "source": [
        "[A] In phyton, there is no additional command to declare a variable. Written before this, are the types of Variables and data types that you can store a value and it serves as your memory location of the system that you are making.\n",
        "\n",
        "![image](https://d1jnx9ba8s6j9r.cloudfront.net/blog/wp-content/uploads/2019/05/1-496x300.png) "
      ]
    },
    {
      "cell_type": "code",
      "metadata": {
        "id": "Sq7uiEP23cPM"
      },
      "source": [
        "x = 1\n",
        "a, b =3, -2"
      ],
      "execution_count": 12,
      "outputs": []
    },
    {
      "cell_type": "code",
      "metadata": {
        "id": "3HjX4Soi3mV8",
        "colab": {
          "base_uri": "https://localhost:8080/"
        },
        "outputId": "2c006f91-4c5c-49f6-b15f-cb0c6cadb514"
      },
      "source": [
        "type(x)\n",
        "int"
      ],
      "execution_count": 11,
      "outputs": [
        {
          "output_type": "execute_result",
          "data": {
            "text/plain": [
              "int"
            ]
          },
          "metadata": {},
          "execution_count": 11
        }
      ]
    },
    {
      "cell_type": "code",
      "metadata": {
        "id": "DBdgzqMB3qum",
        "colab": {
          "base_uri": "https://localhost:8080/"
        },
        "outputId": "7bc33df2-2681-4b45-df2f-d913a774a830"
      },
      "source": [
        "y = 3.0\n",
        "type(y)\n"
      ],
      "execution_count": 16,
      "outputs": [
        {
          "output_type": "execute_result",
          "data": {
            "text/plain": [
              "float"
            ]
          },
          "metadata": {},
          "execution_count": 16
        }
      ]
    },
    {
      "cell_type": "code",
      "metadata": {
        "id": "CmxGUgFg4BV0",
        "colab": {
          "base_uri": "https://localhost:8080/"
        },
        "outputId": "c8c3021f-79c3-455c-adb5-bc77761f2c73"
      },
      "source": [
        "x = float (x)\n",
        "type(x)\n"
      ],
      "execution_count": 17,
      "outputs": [
        {
          "output_type": "execute_result",
          "data": {
            "text/plain": [
              "float"
            ]
          },
          "metadata": {},
          "execution_count": 17
        }
      ]
    },
    {
      "cell_type": "code",
      "metadata": {
        "id": "EmDY1au74tuf",
        "colab": {
          "base_uri": "https://localhost:8080/"
        },
        "outputId": "4fbe91af-1ca1-487f-9c05-099458e97806"
      },
      "source": [
        "s,t, u = '1', '3', 'Three'\n",
        "type(u)"
      ],
      "execution_count": 1,
      "outputs": [
        {
          "output_type": "execute_result",
          "data": {
            "text/plain": [
              "str"
            ]
          },
          "metadata": {},
          "execution_count": 1
        }
      ]
    },
    {
      "cell_type": "markdown",
      "metadata": {
        "id": "jx88bSxi479b"
      },
      "source": [
        ""
      ]
    },
    {
      "cell_type": "markdown",
      "metadata": {
        "id": "J0WPimyR46NV"
      },
      "source": [
        "# Operations"
      ]
    },
    {
      "cell_type": "markdown",
      "metadata": {
        "id": "dBB9xTUh4_00"
      },
      "source": [
        "# Arithmetic"
      ]
    },
    {
      "cell_type": "markdown",
      "metadata": {
        "id": "mEsaX7Qq5gu4"
      },
      "source": [
        "[B] Below this, are the codes that are used to perform mathematical operations. As written below, it can be use from addition to division using the values that are stored using one of the Variables and data type commands."
      ]
    },
    {
      "cell_type": "code",
      "metadata": {
        "id": "Uy50Ce6h5DKk"
      },
      "source": [
        "w, x, y, z,= 4.0, -3.0, 1, -32"
      ],
      "execution_count": 22,
      "outputs": []
    },
    {
      "cell_type": "code",
      "metadata": {
        "id": "YUTrU0zK5O92"
      },
      "source": [
        "### Addition\n",
        "S = w+x"
      ],
      "execution_count": 23,
      "outputs": []
    },
    {
      "cell_type": "code",
      "metadata": {
        "id": "c0D0sOAm5jRV"
      },
      "source": [
        "### Subtraction\n",
        "D = y - z"
      ],
      "execution_count": 24,
      "outputs": []
    },
    {
      "cell_type": "code",
      "metadata": {
        "id": "HYfa7ynk5roz"
      },
      "source": [
        "### Multiplication\n",
        "P = w*z"
      ],
      "execution_count": 25,
      "outputs": []
    },
    {
      "cell_type": "code",
      "metadata": {
        "id": "ygy8dc4s52KG"
      },
      "source": [
        "### Division\n",
        "Q = y/x"
      ],
      "execution_count": 26,
      "outputs": []
    },
    {
      "cell_type": "markdown",
      "metadata": {
        "id": "hsDeG7KV70aU"
      },
      "source": [
        "# Assignment"
      ]
    },
    {
      "cell_type": "markdown",
      "metadata": {
        "id": "PkRlwzO0CnTG"
      },
      "source": [
        "[C] Assignments are used to assign a certain value to a variable."
      ]
    },
    {
      "cell_type": "code",
      "metadata": {
        "id": "8idVe3M574EL"
      },
      "source": [
        "A, B, C, D = 0, 100, 2, 1"
      ],
      "execution_count": 27,
      "outputs": []
    },
    {
      "cell_type": "markdown",
      "metadata": {
        "id": "B_vcZMGcC7NW"
      },
      "source": [
        "[C1] This is Add and Assign. It is used to add the right side operand with the left side operand then assign its result to the left operand."
      ]
    },
    {
      "cell_type": "code",
      "metadata": {
        "id": "p8gVmfC279fs",
        "colab": {
          "base_uri": "https://localhost:8080/"
        },
        "outputId": "49dae438-350a-4903-8297-6e495dfadd7f"
      },
      "source": [
        "A += w\n",
        "print (A)"
      ],
      "execution_count": 28,
      "outputs": [
        {
          "output_type": "stream",
          "name": "stdout",
          "text": [
            "4.0\n"
          ]
        }
      ]
    },
    {
      "cell_type": "markdown",
      "metadata": {
        "id": "p3C0TwJxDGqU"
      },
      "source": [
        "[C2] This is the Subtranct and Assign.It is True if both operands are equal. It subracts the right operand then assign the result to the left operand."
      ]
    },
    {
      "cell_type": "code",
      "metadata": {
        "id": "7nR3fyEO8PxT"
      },
      "source": [
        "B -= x "
      ],
      "execution_count": 29,
      "outputs": []
    },
    {
      "cell_type": "markdown",
      "metadata": {
        "id": "f2b-wAdlDYHu"
      },
      "source": [
        "[C3] This is the Multiply and Assign, Multiplying the right operand with the left operand and then assign its results to the left operand. "
      ]
    },
    {
      "cell_type": "code",
      "metadata": {
        "id": "ffnPzmm_9EZd"
      },
      "source": [
        "C *= w"
      ],
      "execution_count": 30,
      "outputs": []
    },
    {
      "cell_type": "markdown",
      "metadata": {
        "id": "cNvxUOqhEN1Z"
      },
      "source": [
        "[C4] Here is the Divide and Assign. Dividing the left operand with the right operand and assigning its result to the left operand. "
      ]
    },
    {
      "cell_type": "code",
      "metadata": {
        "id": "P73_jBZg9RLv"
      },
      "source": [
        "D /= x"
      ],
      "execution_count": 31,
      "outputs": []
    },
    {
      "cell_type": "markdown",
      "metadata": {
        "id": "ift4zFGtEfP1"
      },
      "source": [
        "[C5] Here is the last of many examples, its the Exponent and Assign. Using operands and assigned value to calculate exponent value adn assigning the result to the left side operand."
      ]
    },
    {
      "cell_type": "code",
      "metadata": {
        "id": "ivxTFGK59kRt"
      },
      "source": [
        "C **= w"
      ],
      "execution_count": 32,
      "outputs": []
    },
    {
      "cell_type": "markdown",
      "metadata": {
        "id": "Q67It4GF-uIN"
      },
      "source": [
        "# Comparators"
      ]
    },
    {
      "cell_type": "markdown",
      "metadata": {
        "id": "oTM5zv4sL8hk"
      },
      "source": [
        "[D] This Operator compares the value on either sides and decides its relation among them. "
      ]
    },
    {
      "cell_type": "code",
      "metadata": {
        "id": "61PaqaBu-zPs"
      },
      "source": [
        "size_1,size_2, size_3, = 1, 2.0, \"1\"\n",
        "true_size = 1.0"
      ],
      "execution_count": 33,
      "outputs": []
    },
    {
      "cell_type": "code",
      "metadata": {
        "colab": {
          "base_uri": "https://localhost:8080/"
        },
        "id": "fr0e18Uj-9N0",
        "outputId": "c1da367e-7fcf-42b0-a825-533c8ddd8dac"
      },
      "source": [
        "## Equality\n",
        "size_1 == true_size"
      ],
      "execution_count": 34,
      "outputs": [
        {
          "output_type": "execute_result",
          "data": {
            "text/plain": [
              "True"
            ]
          },
          "metadata": {},
          "execution_count": 34
        }
      ]
    },
    {
      "cell_type": "code",
      "metadata": {
        "colab": {
          "base_uri": "https://localhost:8080/"
        },
        "id": "YOvHLQ1b_Cul",
        "outputId": "fe36febb-a4d4-4bd2-9937-3171b5cb1fa9"
      },
      "source": [
        "## Non-Equality\n",
        "size_2 != true_size"
      ],
      "execution_count": 35,
      "outputs": [
        {
          "output_type": "execute_result",
          "data": {
            "text/plain": [
              "True"
            ]
          },
          "metadata": {},
          "execution_count": 35
        }
      ]
    },
    {
      "cell_type": "code",
      "metadata": {
        "id": "ITwl7Fdf_JJz"
      },
      "source": [
        "## Inequality\n",
        "s1 = size_1 > size_2\n",
        "s2 = size_1 < size_2/2\n",
        "s3 = true_size >= size_1\n",
        "s4 = size_1 <= true_size"
      ],
      "execution_count": 36,
      "outputs": []
    },
    {
      "cell_type": "markdown",
      "metadata": {
        "id": "TYTbQkfQ_5nB"
      },
      "source": [
        "# Logical"
      ]
    },
    {
      "cell_type": "markdown",
      "metadata": {
        "id": "XjLB6eitMs4D"
      },
      "source": [
        "[E] This is one of the logical operators that is supported by python language. \n",
        "\n",
        "I'll give an example fore easy understanding. Assuming variable A holds 5 and variable B holds 10. \n",
        "* If both of the operands are trure then then the \n",
        "condition will be true \"and logical and\". \n",
        "* If any of the two operands are non-zero then the condition is still True called \"or Logocal or\". \n",
        "* Lastly, It is used to reverse the logical state of the existing operand which is called \"not logical not\"."
      ]
    },
    {
      "cell_type": "code",
      "metadata": {
        "colab": {
          "base_uri": "https://localhost:8080/"
        },
        "id": "cSd6IEq0_8Si",
        "outputId": "055aaac9-6af1-41fa-d198-7938c43a42f4"
      },
      "source": [
        "size_1 == true_size\n"
      ],
      "execution_count": 37,
      "outputs": [
        {
          "output_type": "execute_result",
          "data": {
            "text/plain": [
              "True"
            ]
          },
          "metadata": {},
          "execution_count": 37
        }
      ]
    },
    {
      "cell_type": "code",
      "metadata": {
        "id": "50P8Y5o0AH8h",
        "colab": {
          "base_uri": "https://localhost:8080/"
        },
        "outputId": "7f6e3d7b-b030-4569-9ee9-d8f757513b13"
      },
      "source": [
        "size_1 is true_size"
      ],
      "execution_count": 38,
      "outputs": [
        {
          "output_type": "execute_result",
          "data": {
            "text/plain": [
              "False"
            ]
          },
          "metadata": {},
          "execution_count": 38
        }
      ]
    },
    {
      "cell_type": "code",
      "metadata": {
        "colab": {
          "base_uri": "https://localhost:8080/"
        },
        "id": "6S872f1mgAFK",
        "outputId": "790c4dd1-51d6-4658-faf9-632dc533525a"
      },
      "source": [
        "size_1 is not true_size"
      ],
      "execution_count": 39,
      "outputs": [
        {
          "output_type": "execute_result",
          "data": {
            "text/plain": [
              "True"
            ]
          },
          "metadata": {},
          "execution_count": 39
        }
      ]
    },
    {
      "cell_type": "code",
      "metadata": {
        "id": "YQFlicZWgD6h"
      },
      "source": [
        "P, Q = True, False\n",
        "conj = P and Q "
      ],
      "execution_count": 40,
      "outputs": []
    },
    {
      "cell_type": "code",
      "metadata": {
        "colab": {
          "base_uri": "https://localhost:8080/"
        },
        "id": "PnK52Sl1gKii",
        "outputId": "1df869bf-9016-47df-8a6e-533967cb0f2b"
      },
      "source": [
        "disj = P or Q\n",
        "disj"
      ],
      "execution_count": 41,
      "outputs": [
        {
          "output_type": "execute_result",
          "data": {
            "text/plain": [
              "True"
            ]
          },
          "metadata": {},
          "execution_count": 41
        }
      ]
    },
    {
      "cell_type": "code",
      "metadata": {
        "colab": {
          "base_uri": "https://localhost:8080/"
        },
        "id": "Cv7RDWbWhCUr",
        "outputId": "7d244eba-9bc1-4a3e-f4ec-c9d46205e21e"
      },
      "source": [
        "nand = not(P and Q)\n",
        "nand"
      ],
      "execution_count": 42,
      "outputs": [
        {
          "output_type": "execute_result",
          "data": {
            "text/plain": [
              "True"
            ]
          },
          "metadata": {},
          "execution_count": 42
        }
      ]
    },
    {
      "cell_type": "code",
      "metadata": {
        "colab": {
          "base_uri": "https://localhost:8080/"
        },
        "id": "h87mAWWIhIti",
        "outputId": "1a69d759-5994-455e-9f9d-6f16644afcd5"
      },
      "source": [
        "xor = (not P and Q) or (P and Q)\n",
        "xor"
      ],
      "execution_count": 43,
      "outputs": [
        {
          "output_type": "execute_result",
          "data": {
            "text/plain": [
              "False"
            ]
          },
          "metadata": {},
          "execution_count": 43
        }
      ]
    },
    {
      "cell_type": "markdown",
      "metadata": {
        "id": "TdLQ3TZ2hTwh"
      },
      "source": [
        "# Input and Output"
      ]
    },
    {
      "cell_type": "markdown",
      "metadata": {
        "id": "sLwkdONMODxq"
      },
      "source": [
        "[F] This Operator is a built-in functions which is print() and input() to perform and complete a task in Python. "
      ]
    },
    {
      "cell_type": "code",
      "metadata": {
        "colab": {
          "base_uri": "https://localhost:8080/"
        },
        "id": "EGgulTk_hYOp",
        "outputId": "adcc1b11-8449-46c9-a618-6fbef04e32fa"
      },
      "source": [
        "print(\"Hello World!\")"
      ],
      "execution_count": 44,
      "outputs": [
        {
          "output_type": "stream",
          "name": "stdout",
          "text": [
            "Hello World!\n"
          ]
        }
      ]
    },
    {
      "cell_type": "code",
      "metadata": {
        "id": "AXY1P-VDhd-C"
      },
      "source": [
        "cnt = 14000"
      ],
      "execution_count": 45,
      "outputs": []
    },
    {
      "cell_type": "code",
      "metadata": {
        "colab": {
          "base_uri": "https://localhost:8080/"
        },
        "id": "z6BOs3H7hjDZ",
        "outputId": "6dc7cb81-4781-40bf-e5df-36eefe34227e"
      },
      "source": [
        "string = \"Hello world\"\n",
        "print(string, \", current count is\", cnt)\n",
        "cnt += 10000"
      ],
      "execution_count": 46,
      "outputs": [
        {
          "output_type": "stream",
          "name": "stdout",
          "text": [
            "Hello world , current count is 14000\n"
          ]
        }
      ]
    },
    {
      "cell_type": "code",
      "metadata": {
        "colab": {
          "base_uri": "https://localhost:8080/"
        },
        "id": "wqn9okJLh0vV",
        "outputId": "9d628558-cb8c-42eb-d3da-32cdbcabc04c"
      },
      "source": [
        "print(f\"(string), current count is: (cnt)\")"
      ],
      "execution_count": 47,
      "outputs": [
        {
          "output_type": "stream",
          "name": "stdout",
          "text": [
            "(string), current count is: (cnt)\n"
          ]
        }
      ]
    },
    {
      "cell_type": "code",
      "metadata": {
        "colab": {
          "base_uri": "https://localhost:8080/"
        },
        "id": "De6EHCkjiIYZ",
        "outputId": "7a5f3ebb-41a7-4d90-963c-635294455a9f"
      },
      "source": [
        "sem_grade = 86.25\n",
        "name = \"nicole\"\n",
        "print(\"Hello {}, your semestral grade is: {}\". format(name, sem_grade))"
      ],
      "execution_count": 48,
      "outputs": [
        {
          "output_type": "stream",
          "name": "stdout",
          "text": [
            "Hello nicole, your semestral grade is: 86.25\n"
          ]
        }
      ]
    },
    {
      "cell_type": "code",
      "metadata": {
        "colab": {
          "base_uri": "https://localhost:8080/"
        },
        "id": "7Albq4H3itGJ",
        "outputId": "8f8100f3-6f25-46b8-cf5b-7dd1a6ef7a85"
      },
      "source": [
        "pg, mg, fg = 0.3, 0.3, 0.4\n",
        "print(\"The weights of you semestral grades are: \\\n",
        "\\n\\t {:.2%} for prelims\\\n",
        "\\n\\t {:.2%} for midterms, and\\\n",
        "\\n\\t {:.2%} for Finals\". format(pg, mg, fg))"
      ],
      "execution_count": 49,
      "outputs": [
        {
          "output_type": "stream",
          "name": "stdout",
          "text": [
            "The weights of you semestral grades are: \n",
            "\t 30.00% for prelims\n",
            "\t 30.00% for midterms, and\n",
            "\t 40.00% for Finals\n"
          ]
        }
      ]
    },
    {
      "cell_type": "code",
      "metadata": {
        "colab": {
          "base_uri": "https://localhost:8080/",
          "height": 52
        },
        "id": "JWVI-iDNjhCp",
        "outputId": "2213b7f9-c311-40c7-c070-b43f46e2f2fe"
      },
      "source": [
        "e = input(\"Enter a number: \")\n",
        "e"
      ],
      "execution_count": 51,
      "outputs": [
        {
          "name": "stdout",
          "output_type": "stream",
          "text": [
            "Enter a number: 2\n"
          ]
        },
        {
          "output_type": "execute_result",
          "data": {
            "application/vnd.google.colaboratory.intrinsic+json": {
              "type": "string"
            },
            "text/plain": [
              "'2'"
            ]
          },
          "metadata": {},
          "execution_count": 51
        }
      ]
    },
    {
      "cell_type": "code",
      "metadata": {
        "colab": {
          "base_uri": "https://localhost:8080/"
        },
        "id": "B3fN8nMVjnkD",
        "outputId": "8a614c0b-1934-48e5-ea14-5119e23bbbac"
      },
      "source": [
        "name = input(\"Enter your name: \")\n",
        "pg = input(\"Enter Prelim Grade: \")\n",
        "mg = input(\"Enter Midterm Grade: \")\n",
        "fg = input(\"Enter Final Grade: \")\n",
        "sem_grade = None"
      ],
      "execution_count": 52,
      "outputs": [
        {
          "name": "stdout",
          "output_type": "stream",
          "text": [
            "Enter your name: nico\n",
            "Enter Prelim Grade: 2\n",
            "Enter Midterm Grade: 2\n",
            "Enter Final Grade: 2\n"
          ]
        }
      ]
    },
    {
      "cell_type": "markdown",
      "metadata": {
        "id": "MVFx7ab4kG4p"
      },
      "source": [
        "# While"
      ]
    },
    {
      "cell_type": "markdown",
      "metadata": {
        "id": "dDJvdzMiO1wl"
      },
      "source": [
        "[G] This Loop is similar to an if statement. Which executes a code inside it if its true. But the thing is, It continues the loop to execute as long as the if statement is True. this loop is not very common in some but can still be very useful. "
      ]
    },
    {
      "cell_type": "code",
      "metadata": {
        "colab": {
          "base_uri": "https://localhost:8080/"
        },
        "id": "-xBc1QNdkEvi",
        "outputId": "e88b9e7c-ee95-44b7-a94c-a725a0ea1e49"
      },
      "source": [
        "## While loops \n",
        "i, j = 0, 10\n",
        "while(i<=j):\n",
        "  print(f\"{i}\\t|\\t{j}\")\n",
        "  i += 1"
      ],
      "execution_count": 53,
      "outputs": [
        {
          "output_type": "stream",
          "name": "stdout",
          "text": [
            "0\t|\t10\n",
            "1\t|\t10\n",
            "2\t|\t10\n",
            "3\t|\t10\n",
            "4\t|\t10\n",
            "5\t|\t10\n",
            "6\t|\t10\n",
            "7\t|\t10\n",
            "8\t|\t10\n",
            "9\t|\t10\n",
            "10\t|\t10\n"
          ]
        }
      ]
    },
    {
      "cell_type": "markdown",
      "metadata": {
        "id": "3rMBwSaQkikR"
      },
      "source": [
        "# For"
      ]
    },
    {
      "cell_type": "markdown",
      "metadata": {
        "id": "X05OeCfwTC0d"
      },
      "source": [
        "[H] This loop is used for iterating over a sequence. With this loop, it can execute a set of statements, one for each item in a list, etc."
      ]
    },
    {
      "cell_type": "code",
      "metadata": {
        "colab": {
          "base_uri": "https://localhost:8080/"
        },
        "id": "OZkl2eXrklt5",
        "outputId": "a26b8819-f53a-470e-dc6f-347b1347b2fc"
      },
      "source": [
        "# for\n",
        "i = 0 \n",
        "for i in range(10):\n",
        "  print(1)"
      ],
      "execution_count": 54,
      "outputs": [
        {
          "output_type": "stream",
          "name": "stdout",
          "text": [
            "1\n",
            "1\n",
            "1\n",
            "1\n",
            "1\n",
            "1\n",
            "1\n",
            "1\n",
            "1\n",
            "1\n"
          ]
        }
      ]
    },
    {
      "cell_type": "code",
      "metadata": {
        "colab": {
          "base_uri": "https://localhost:8080/"
        },
        "id": "hixi8AJUkt1p",
        "outputId": "29daef09-753e-4983-872f-077dc3bc1e3b"
      },
      "source": [
        "playlist = [\"bahay kubo\", \"Magandang Kanta\", \"buko\"]\n",
        "print('Now playing:\\n')\n",
        "for song in playlist:\n",
        "  print(song)"
      ],
      "execution_count": 55,
      "outputs": [
        {
          "output_type": "stream",
          "name": "stdout",
          "text": [
            "Now playing:\n",
            "\n",
            "bahay kubo\n",
            "Magandang Kanta\n",
            "buko\n"
          ]
        }
      ]
    },
    {
      "cell_type": "markdown",
      "metadata": {
        "id": "zrbxYpfLlBwB"
      },
      "source": [
        "# Flow Control"
      ]
    },
    {
      "cell_type": "markdown",
      "metadata": {
        "id": "ggpGdWkgVcJ9"
      },
      "source": [
        "[I] This is an order which the program will execute in order to regulate the Python program's conditional statements, loops and function commands. "
      ]
    },
    {
      "cell_type": "markdown",
      "metadata": {
        "id": "i37sjJ9XlF_x"
      },
      "source": [
        "# Condition Statements"
      ]
    },
    {
      "cell_type": "markdown",
      "metadata": {
        "id": "lXyi2Tn6WAVc"
      },
      "source": [
        "[J] This command is one of the most commonly used conditional statements in a programming language. This is where the decision in analyzed and decides whther this statement is neede to be executed or not. It also checks a given condition where if its true then a set of code inside the \"if\" statement block will be executed otherwise the else statement will run."
      ]
    },
    {
      "cell_type": "code",
      "metadata": {
        "colab": {
          "base_uri": "https://localhost:8080/",
          "height": 129
        },
        "id": "y94jGFPmlI8x",
        "outputId": "0c53f267-d20f-4bf7-bc40-403992156573"
      },
      "source": [
        "num_1, num_2 = 22, 12\n",
        "if(num_1 == num_2):\n",
        "  print(\"HAHA\")\n",
        "  elif(num_1 > num_2):\n",
        "    print(\"HOHO\")\n",
        "    else:\n",
        "      print(\"HUHU\")"
      ],
      "execution_count": 56,
      "outputs": [
        {
          "output_type": "error",
          "ename": "SyntaxError",
          "evalue": "ignored",
          "traceback": [
            "\u001b[0;36m  File \u001b[0;32m\"<ipython-input-56-a80aba2d48bf>\"\u001b[0;36m, line \u001b[0;32m4\u001b[0m\n\u001b[0;31m    elif(num_1 > num_2):\u001b[0m\n\u001b[0m       ^\u001b[0m\n\u001b[0;31mSyntaxError\u001b[0m\u001b[0;31m:\u001b[0m invalid syntax\n"
          ]
        }
      ]
    },
    {
      "cell_type": "markdown",
      "metadata": {
        "id": "hRUz_ZzDmGUg"
      },
      "source": [
        "# Function"
      ]
    },
    {
      "cell_type": "markdown",
      "metadata": {
        "id": "mA6ITqf3Whl0"
      },
      "source": [
        "[K] This is a block code where it only runs when called. A function can return a data as a result and it can also pass data, known as parameters into a function. "
      ]
    },
    {
      "cell_type": "code",
      "metadata": {
        "id": "aNyvLwqUmJER"
      },
      "source": [
        "def delete_user(userid):\n",
        "  print(\"Succesfully deleted user: {}\". format(userid))"
      ],
      "execution_count": 57,
      "outputs": []
    },
    {
      "cell_type": "code",
      "metadata": {
        "colab": {
          "base_uri": "https://localhost:8080/"
        },
        "id": "SqSB03T1m0bT",
        "outputId": "668430e8-eace-4328-ce1b-022547bd203e"
      },
      "source": [
        "userid = 202012729\n",
        "delete_user(202012729)"
      ],
      "execution_count": 58,
      "outputs": [
        {
          "output_type": "stream",
          "name": "stdout",
          "text": [
            "Succesfully deleted user: 202012729\n"
          ]
        }
      ]
    },
    {
      "cell_type": "code",
      "metadata": {
        "id": "BwH5WUuxm7Mi"
      },
      "source": [
        "def add(addend1, addend2):\n",
        "  sum = addend1 + addend2\n",
        "  return sum"
      ],
      "execution_count": 59,
      "outputs": []
    },
    {
      "cell_type": "code",
      "metadata": {
        "colab": {
          "base_uri": "https://localhost:8080/"
        },
        "id": "f7WX_e10nWNZ",
        "outputId": "f467e099-c0c6-48b2-bf3f-b03427964f87"
      },
      "source": [
        "add(5, 4)"
      ],
      "execution_count": 60,
      "outputs": [
        {
          "output_type": "execute_result",
          "data": {
            "text/plain": [
              "9"
            ]
          },
          "metadata": {},
          "execution_count": 60
        }
      ]
    },
    {
      "cell_type": "markdown",
      "metadata": {
        "id": "55ezl_1kY-3M"
      },
      "source": [
        ""
      ]
    },
    {
      "cell_type": "markdown",
      "metadata": {
        "id": "eN3ycA2UZAtT"
      },
      "source": [
        "# References:\n",
        "* [A] Waseem, M.(2021, Julys 15) What Are Variables And Data Types In Python?. Retrieved from https://www.edureka.co/blog/variables-and-data-types-in-python/\n",
        "* [B] Anonymous. (n.d) Python Basic Operators. Retrieved from https://www.tutorialspoint.com/python/python_basic_operators.htm \n",
        "* [C] Anonymous. (2020, August 29) Assignment Operators in Python. Retrieved from https://www.geeksforgeeks.org/assignment-operators-in-python/ \n",
        "* [C1] - [C5] Anonymous. (2020, August 29) Assignment Operators in Python. Retrieved from https://www.geeksforgeeks.org/assignment-operators-in-python/ \n",
        "* [D] Anonymous. (n.d) Python Basic Operators. Retrieved from https://www.tutorialspoint.com/python/python_basic_operators.htm \n",
        "* [E] Anonymous. (n.d) Python Basic Operators. Retrieved from https://www.tutorialspoint.com/python/python_basic_operators.htm \n",
        "* [F] Anonymous. (n.d) Python Input, Output and Import. Retrieved from https://www.programiz.com/python-programming/input-output-import  \n",
        "* [G] Anderson, H,B.(2020, june 25) Python While Loops. Retrieved from https://www.datacamp.com/community/tutorials/python-while-loop?utm_source=adwords_ppc&utm_campaignid=1455363063&utm_adgroupid=65083631748&utm_device=c&utm_keyword=&utm_matchtype=b&utm_network=g&utm_adpostion=&utm_creative=332602034358&utm_targetid=dsa-429603003980&utm_loc_interest_ms=&utm_loc_physical_ms=20826&gclid=Cj0KCQjw4eaJBhDMARIsANhrQABJ1gF1hAX5tSEq0PbViyY6WbauT-ktm1V0jC1sYCKt_WwTdZMJk6QaAvzKEALw_wcB \n",
        "* [H] Anonymous. (n.d) Python For Loops. retrieved from https://www.w3schools.com/python/python_for_loops.asp\n",
        "* [I] Koushik, B. (n.d) What are control flow statements in Python?. Retrieved from https://www.educative.io/edpresso/what-are-control-flow-statements-in-python \n",
        "* [J] Campbell, S. (2021, August 28) Python Conditional Statements: IF…Else, ELIF & Switch Case. retrieved from https://www.guru99.com/if-loop-python-conditional-structures.html\n",
        "* [K] Anonymous. (n.d) Python Functions. Retrieved from https://www.w3schools.com/python/python_functions.asp"
      ]
    }
  ]
}