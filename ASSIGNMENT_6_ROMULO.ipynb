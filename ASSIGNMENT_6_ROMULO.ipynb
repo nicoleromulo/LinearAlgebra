{
  "nbformat": 4,
  "nbformat_minor": 0,
  "metadata": {
    "colab": {
      "name": "ASSIGNMENT_6_ROMULO.ipynb",
      "provenance": [],
      "collapsed_sections": [],
      "authorship_tag": "ABX9TyPOOwVfOVwlA9x75Zu9izGW",
      "include_colab_link": true
    },
    "kernelspec": {
      "name": "python3",
      "display_name": "Python 3"
    },
    "language_info": {
      "name": "python"
    }
  },
  "cells": [
    {
      "cell_type": "markdown",
      "metadata": {
        "id": "view-in-github",
        "colab_type": "text"
      },
      "source": [
        "<a href=\"https://colab.research.google.com/github/nicoleromulo/LinearAlgebra/blob/main/ASSIGNMENT_6_ROMULO.ipynb\" target=\"_parent\"><img src=\"https://colab.research.google.com/assets/colab-badge.svg\" alt=\"Open In Colab\"/></a>"
      ]
    },
    {
      "cell_type": "markdown",
      "metadata": {
        "id": "1oRz_Ex1Mihe"
      },
      "source": [
        "# **Linear Algebra for ECE**\n",
        "### ***Laboratory 6: Matrix Operations***\n",
        "Now that you have a fundamental knowledge about representing and operating with vectors as well as the fundamentals of matrices, we'll try to the same operations with matrices and even more.\n"
      ]
    },
    {
      "cell_type": "code",
      "metadata": {
        "id": "jbz2DI13Mhuf"
      },
      "source": [
        "import numpy as np\n",
        "import matplotlib.pyplot as plt \n",
        "%matplotlib inline"
      ],
      "execution_count": 1,
      "outputs": []
    },
    {
      "cell_type": "markdown",
      "metadata": {
        "id": "3EIRzqH0MmMW"
      },
      "source": [
        "#### **Transposition**\n",
        "One of the fundamental operations in matrix algebra is Transposition. The transpose of a matrix is done by flipping the values of its elements over its diagonals. With this, the rows and columns from the original matrix will be switched. So for a matrix $A$ its transpose is denoted as $A^T$. So for example:\n",
        "$$\n",
        "A=\\begin{bmatrix} 1 & 2 & 5 \\\\ 5 & -1 & 0 \\\\ 0 & -3 & 3\\end{bmatrix} \\\\\n",
        "A^T=\\begin{bmatrix} 1 & 2 & 5 \\\\ 5 & -1 & 0 \\\\ 0 & -3 & 3\\end{bmatrix}\n",
        "$$\n",
        "This can now be achieved programmatically by using np.transpose() or using the T method.\n",
        "\n"
      ]
    },
    {
      "cell_type": "code",
      "metadata": {
        "colab": {
          "base_uri": "https://localhost:8080/"
        },
        "id": "4GO_XOk6Mnbt",
        "outputId": "2b97cf5d-761c-4cbb-e0a7-d953e11619a7"
      },
      "source": [
        "A = np.array ([\n",
        "               [1, 2, 5],\n",
        "               [5, -1, 0],\n",
        "               [0, -3, 3]\n",
        "])\n",
        "A"
      ],
      "execution_count": 2,
      "outputs": [
        {
          "output_type": "execute_result",
          "data": {
            "text/plain": [
              "array([[ 1,  2,  5],\n",
              "       [ 5, -1,  0],\n",
              "       [ 0, -3,  3]])"
            ]
          },
          "metadata": {},
          "execution_count": 2
        }
      ]
    },
    {
      "cell_type": "code",
      "metadata": {
        "colab": {
          "base_uri": "https://localhost:8080/"
        },
        "id": "PokfRJvLMpX2",
        "outputId": "a84a0ca5-4059-41cc-92f7-1de1773b7abc"
      },
      "source": [
        "AT1 = np.transpose(A)\n",
        "AT1"
      ],
      "execution_count": 3,
      "outputs": [
        {
          "output_type": "execute_result",
          "data": {
            "text/plain": [
              "array([[ 1,  5,  0],\n",
              "       [ 2, -1, -3],\n",
              "       [ 5,  0,  3]])"
            ]
          },
          "metadata": {},
          "execution_count": 3
        }
      ]
    },
    {
      "cell_type": "code",
      "metadata": {
        "colab": {
          "base_uri": "https://localhost:8080/"
        },
        "id": "bVUrghslMrkN",
        "outputId": "b23761a4-f93f-4e19-e4d4-55c9035d5734"
      },
      "source": [
        "AT2 = A.T\n",
        "AT2"
      ],
      "execution_count": 4,
      "outputs": [
        {
          "output_type": "execute_result",
          "data": {
            "text/plain": [
              "array([[ 1,  5,  0],\n",
              "       [ 2, -1, -3],\n",
              "       [ 5,  0,  3]])"
            ]
          },
          "metadata": {},
          "execution_count": 4
        }
      ]
    },
    {
      "cell_type": "code",
      "metadata": {
        "colab": {
          "base_uri": "https://localhost:8080/"
        },
        "id": "PuPF0p3-Mug2",
        "outputId": "fd25d1f5-10cf-4726-bf8e-204cd837e839"
      },
      "source": [
        "np.array_equiv(AT1, AT2)"
      ],
      "execution_count": 5,
      "outputs": [
        {
          "output_type": "execute_result",
          "data": {
            "text/plain": [
              "True"
            ]
          },
          "metadata": {},
          "execution_count": 5
        }
      ]
    },
    {
      "cell_type": "code",
      "metadata": {
        "colab": {
          "base_uri": "https://localhost:8080/"
        },
        "id": "gutp_0fWM-WV",
        "outputId": "de195e63-868a-45d7-9be0-d19e0d7a3b8b"
      },
      "source": [
        "B = np.array ([\n",
        "               [1, 2, 3, 4],\n",
        "               [1, 0, 2, 1]\n",
        "])\n",
        "B.shape"
      ],
      "execution_count": 6,
      "outputs": [
        {
          "output_type": "execute_result",
          "data": {
            "text/plain": [
              "(2, 4)"
            ]
          },
          "metadata": {},
          "execution_count": 6
        }
      ]
    },
    {
      "cell_type": "code",
      "metadata": {
        "colab": {
          "base_uri": "https://localhost:8080/"
        },
        "id": "aqs0_lzXNOVk",
        "outputId": "706cf784-fbba-47ab-cad6-febee2f11b90"
      },
      "source": [
        "np.transpose(B) .shape"
      ],
      "execution_count": 7,
      "outputs": [
        {
          "output_type": "execute_result",
          "data": {
            "text/plain": [
              "(4, 2)"
            ]
          },
          "metadata": {},
          "execution_count": 7
        }
      ]
    },
    {
      "cell_type": "code",
      "metadata": {
        "colab": {
          "base_uri": "https://localhost:8080/"
        },
        "id": "PdtGPj5bNTDc",
        "outputId": "6d3584af-09d5-4910-89a5-4663184f20b9"
      },
      "source": [
        "B.T. shape"
      ],
      "execution_count": 8,
      "outputs": [
        {
          "output_type": "execute_result",
          "data": {
            "text/plain": [
              "(4, 2)"
            ]
          },
          "metadata": {},
          "execution_count": 8
        }
      ]
    },
    {
      "cell_type": "markdown",
      "metadata": {
        "id": "0zijiBa9bRAg"
      },
      "source": [
        "##### **Own matrix to test transposition.**"
      ]
    },
    {
      "cell_type": "code",
      "metadata": {
        "colab": {
          "base_uri": "https://localhost:8080/"
        },
        "id": "cv8BxjMpNiyM",
        "outputId": "6fcb370d-2c71-4531-f20d-730cf79ed55e"
      },
      "source": [
        "N = np.array ([\n",
        "               [2, 3, 4, 5],\n",
        "               [2, 6, 9, 2],\n",
        "               [8, 1, 0, -2]\n",
        "])\n",
        "N.shape"
      ],
      "execution_count": 9,
      "outputs": [
        {
          "output_type": "execute_result",
          "data": {
            "text/plain": [
              "(3, 4)"
            ]
          },
          "metadata": {},
          "execution_count": 9
        }
      ]
    },
    {
      "cell_type": "code",
      "metadata": {
        "id": "kBPvm0kIN2jU",
        "colab": {
          "base_uri": "https://localhost:8080/"
        },
        "outputId": "4855d2d0-e673-4002-e8a2-c7a7b8786fea"
      },
      "source": [
        "np.transpose(N).shape"
      ],
      "execution_count": 10,
      "outputs": [
        {
          "output_type": "execute_result",
          "data": {
            "text/plain": [
              "(4, 3)"
            ]
          },
          "metadata": {},
          "execution_count": 10
        }
      ]
    },
    {
      "cell_type": "code",
      "metadata": {
        "id": "qg51uOrDN5oE",
        "colab": {
          "base_uri": "https://localhost:8080/"
        },
        "outputId": "99fd8831-6d71-4ec4-a663-1ec4a9fe5560"
      },
      "source": [
        "N.T.shape"
      ],
      "execution_count": 11,
      "outputs": [
        {
          "output_type": "execute_result",
          "data": {
            "text/plain": [
              "(4, 3)"
            ]
          },
          "metadata": {},
          "execution_count": 11
        }
      ]
    },
    {
      "cell_type": "code",
      "metadata": {
        "colab": {
          "base_uri": "https://localhost:8080/"
        },
        "id": "b1xdGIBCbEbY",
        "outputId": "bbcc0e57-cd48-414a-a139-c169f0bca131"
      },
      "source": [
        "NT = N.T\n",
        "NT "
      ],
      "execution_count": 12,
      "outputs": [
        {
          "output_type": "execute_result",
          "data": {
            "text/plain": [
              "array([[ 2,  2,  8],\n",
              "       [ 3,  6,  1],\n",
              "       [ 4,  9,  0],\n",
              "       [ 5,  2, -2]])"
            ]
          },
          "metadata": {},
          "execution_count": 12
        }
      ]
    },
    {
      "cell_type": "markdown",
      "metadata": {
        "id": "e7TQFoBycMc7"
      },
      "source": [
        "####**Dot Product/ Inner Product**\n",
        "If you recall the dot product from laboratory activity before, we will try to implement the same operation with matrices. In matrix dot product we are going to get the sum of products of the vectors by row-column pairs. So if we have two matrices $X$ and $Y$:\n",
        "\n",
        "$$\n",
        "X=\\begin{bmatrix} X_{(0, 0)}  & X_{(0, 1)} \\\\ X_{(1, 0)} & X_{(1, 1)}\\end{bmatrix}, Y=\\begin{bmatrix} Y_{(0, 0)}& Y_{(0, 1)}& Y_{(1, 0)}& Y_{(1, 1)}\\end{bmatrix}\n",
        "$$\n",
        "\n",
        "\n"
      ]
    },
    {
      "cell_type": "markdown",
      "metadata": {
        "id": "T_Ce3CvbTdQ6"
      },
      "source": [
        "The dot product will then be computed as:\n",
        "$$\n",
        "X\\cdot Y=\\begin{bmatrix} X_{(0, 0)}*Y_{(0, 0)}+X_{(0, 1)}*Y_{(1, 0)}& X_{(0, 0)}*Y_{(0, 1)}+X_{(0, 1)}*Y_{(1, 1)}\\\\ X_{(1, 0)}*Y_{(0, 0)}+X_{(1, 1)}*Y_{(1, 0)} &X_{(1, 0)}*Y_{(0, 1)}+X_{(1, 1)}*Y_{(1, 1)}\\end{bmatrix}, \n",
        "$$"
      ]
    },
    {
      "cell_type": "markdown",
      "metadata": {
        "id": "SBJAQkJhVBi3"
      },
      "source": [
        "So if we assign values to $X$ and $Y$:\n",
        "$$\n",
        "X=\\begin{bmatrix} 1 & 2\\\\ 0 & 1\\end{bmatrix}, Y=\\begin{bmatrix}-1 & 0 & 2 & 2\\end{bmatrix} \\\\\n",
        "X\\cdot Y=\\begin{bmatrix} 1*-1+2*2 & 1*0+2*2\\\\ 0*-1+1*2 & 0*0+1*2\\end{bmatrix} = \\begin{bmatrix}3&4&2&2\\end{bmatrix} \n",
        "$$"
      ]
    },
    {
      "cell_type": "markdown",
      "metadata": {
        "id": "V8E9ZwAbWgZ_"
      },
      "source": [
        "This could be achieved programmatically using np.dot(), np.matmul() or the @ operator."
      ]
    },
    {
      "cell_type": "code",
      "metadata": {
        "id": "_UgKW6UxOB19"
      },
      "source": [
        "X = np.array([\n",
        "    [1,2],\n",
        "    [0,1]\n",
        "])\n",
        "Y = np.array([\n",
        "    [-1,0],\n",
        "    [2,2]\n",
        "])"
      ],
      "execution_count": 13,
      "outputs": []
    },
    {
      "cell_type": "code",
      "metadata": {
        "id": "sTUZih-5WpFX",
        "colab": {
          "base_uri": "https://localhost:8080/"
        },
        "outputId": "5403817a-1ab2-4d03-9c0f-77888c82f074"
      },
      "source": [
        "np.array_equiv(X,Y)"
      ],
      "execution_count": 14,
      "outputs": [
        {
          "output_type": "execute_result",
          "data": {
            "text/plain": [
              "False"
            ]
          },
          "metadata": {},
          "execution_count": 14
        }
      ]
    },
    {
      "cell_type": "code",
      "metadata": {
        "colab": {
          "base_uri": "https://localhost:8080/"
        },
        "id": "MUhwYozwOI-D",
        "outputId": "462087a5-e82c-4695-f21e-4034cbe337c4"
      },
      "source": [
        "np.dot(X,Y)"
      ],
      "execution_count": 15,
      "outputs": [
        {
          "output_type": "execute_result",
          "data": {
            "text/plain": [
              "array([[3, 4],\n",
              "       [2, 2]])"
            ]
          },
          "metadata": {},
          "execution_count": 15
        }
      ]
    },
    {
      "cell_type": "code",
      "metadata": {
        "colab": {
          "base_uri": "https://localhost:8080/"
        },
        "id": "kfZ26qZ8OI48",
        "outputId": "b48d4113-3506-4895-8452-5dceb865e841"
      },
      "source": [
        "X.dot(Y)"
      ],
      "execution_count": 16,
      "outputs": [
        {
          "output_type": "execute_result",
          "data": {
            "text/plain": [
              "array([[3, 4],\n",
              "       [2, 2]])"
            ]
          },
          "metadata": {},
          "execution_count": 16
        }
      ]
    },
    {
      "cell_type": "code",
      "metadata": {
        "colab": {
          "base_uri": "https://localhost:8080/"
        },
        "id": "NNERGVdgOPT0",
        "outputId": "60e7098e-9cf4-4ba5-c0f3-668e26d9ac2f"
      },
      "source": [
        "X @ Y"
      ],
      "execution_count": 17,
      "outputs": [
        {
          "output_type": "execute_result",
          "data": {
            "text/plain": [
              "array([[3, 4],\n",
              "       [2, 2]])"
            ]
          },
          "metadata": {},
          "execution_count": 17
        }
      ]
    },
    {
      "cell_type": "code",
      "metadata": {
        "colab": {
          "base_uri": "https://localhost:8080/"
        },
        "id": "nkKsdFSeORcG",
        "outputId": "e2977e2a-2a50-4484-a9b3-afa818c21c53"
      },
      "source": [
        "np.matmul(X, Y)"
      ],
      "execution_count": 18,
      "outputs": [
        {
          "output_type": "execute_result",
          "data": {
            "text/plain": [
              "array([[3, 4],\n",
              "       [2, 2]])"
            ]
          },
          "metadata": {},
          "execution_count": 18
        }
      ]
    },
    {
      "cell_type": "code",
      "metadata": {
        "id": "yekR-66MOVpd"
      },
      "source": [
        "N = np.array([\n",
        "    [-2, 3, 4],\n",
        "    [0, 1, -5],\n",
        "    [8, -4, 1]\n",
        "])\n",
        "R = np.array([\n",
        "    [-2 , 0, 2],\n",
        "    [2, 5, -6],\n",
        "    [4, -3, 1]\n",
        "])\n"
      ],
      "execution_count": 19,
      "outputs": []
    },
    {
      "cell_type": "code",
      "metadata": {
        "id": "D6h_rJu9Wyz_",
        "colab": {
          "base_uri": "https://localhost:8080/"
        },
        "outputId": "fdbab32e-ac68-4529-eb6e-db598a56a0b8"
      },
      "source": [
        "N @ R"
      ],
      "execution_count": 20,
      "outputs": [
        {
          "output_type": "execute_result",
          "data": {
            "text/plain": [
              "array([[ 26,   3, -18],\n",
              "       [-18,  20, -11],\n",
              "       [-20, -23,  41]])"
            ]
          },
          "metadata": {},
          "execution_count": 20
        }
      ]
    },
    {
      "cell_type": "code",
      "metadata": {
        "colab": {
          "base_uri": "https://localhost:8080/"
        },
        "id": "udZAen2BOnkd",
        "outputId": "793414cd-ceb4-4ece-ce19-6da5e08fea56"
      },
      "source": [
        "np.dot(N, R)"
      ],
      "execution_count": 21,
      "outputs": [
        {
          "output_type": "execute_result",
          "data": {
            "text/plain": [
              "array([[ 26,   3, -18],\n",
              "       [-18,  20, -11],\n",
              "       [-20, -23,  41]])"
            ]
          },
          "metadata": {},
          "execution_count": 21
        }
      ]
    },
    {
      "cell_type": "code",
      "metadata": {
        "colab": {
          "base_uri": "https://localhost:8080/"
        },
        "id": "AyqD-yrjOw3t",
        "outputId": "aa38e871-b8f2-40ba-b7d9-013eb9cf85a1"
      },
      "source": [
        "N.dot(R)"
      ],
      "execution_count": 22,
      "outputs": [
        {
          "output_type": "execute_result",
          "data": {
            "text/plain": [
              "array([[ 26,   3, -18],\n",
              "       [-18,  20, -11],\n",
              "       [-20, -23,  41]])"
            ]
          },
          "metadata": {},
          "execution_count": 22
        }
      ]
    },
    {
      "cell_type": "code",
      "metadata": {
        "id": "QJBYBvIUW3tg",
        "colab": {
          "base_uri": "https://localhost:8080/"
        },
        "outputId": "6f739e87-920b-4770-cc39-67ddf68c751c"
      },
      "source": [
        "np.matmul(N, R)"
      ],
      "execution_count": 23,
      "outputs": [
        {
          "output_type": "execute_result",
          "data": {
            "text/plain": [
              "array([[ 26,   3, -18],\n",
              "       [-18,  20, -11],\n",
              "       [-20, -23,  41]])"
            ]
          },
          "metadata": {},
          "execution_count": 23
        }
      ]
    },
    {
      "cell_type": "code",
      "metadata": {
        "id": "UrrfSYCLW6T2",
        "colab": {
          "base_uri": "https://localhost:8080/"
        },
        "outputId": "55d6b367-0d25-47ad-bab5-9c7f8e4088c3"
      },
      "source": [
        "np.dot(N, R)"
      ],
      "execution_count": 24,
      "outputs": [
        {
          "output_type": "execute_result",
          "data": {
            "text/plain": [
              "array([[ 26,   3, -18],\n",
              "       [-18,  20, -11],\n",
              "       [-20, -23,  41]])"
            ]
          },
          "metadata": {},
          "execution_count": 24
        }
      ]
    },
    {
      "cell_type": "markdown",
      "metadata": {
        "id": "t_inpAg6XArh"
      },
      "source": [
        "In matrix dot products there are additional rules compared with vector dot products. Since vector dot products were just in one dimension there are less restrictions. Since now we are dealing with Rank 2 vectors we need to consider some rules:"
      ]
    },
    {
      "cell_type": "markdown",
      "metadata": {
        "id": "8L1p1QtPXDhW"
      },
      "source": [
        "###**Rule 1: The inner dimensions of the two matrices in question must be the same.**\n",
        "So given a matrix $A$ with a shape of $(a,b)$ where $a$ and $b$ are any integers. If we want to do a dot product between $A$ and another matrix $B$, then matrix $B$ should have a shape of $(b,c)$ where $b$ and $c$ are any integers. So for given the following matrices:\n",
        "\n",
        "$$\n",
        "A=\\begin{bmatrix}2&4&\\\\5&-2\\\\0&1\\end{bmatrix}, B=\\begin{bmatrix}1&13&3&-1&-2\\end{bmatrix}, C=\\begin{bmatrix}0&1&11&1&2\\end{bmatrix} \n",
        "$$\n"
      ]
    },
    {
      "cell_type": "markdown",
      "metadata": {
        "id": "iIQwgGLGXnJX"
      },
      "source": [
        "So in this case $N$ has a shape of $(3,2)$, $R$ has a shape of $(3,2)$ and $V$ has a shape of $(2,3)$. So the only matrix pairs that is eligible to perform dot product is matrices $N \\cdot V$, or $R \\cdot V$.\n",
        "\n",
        "```\n",
        "# This is formatted as code\n",
        "```\n",
        "\n"
      ]
    },
    {
      "cell_type": "code",
      "metadata": {
        "colab": {
          "base_uri": "https://localhost:8080/"
        },
        "id": "a4CRp06FQxJu",
        "outputId": "6e8815d4-da18-4614-e15c-abf63b7012a9"
      },
      "source": [
        "N = np.array([\n",
        "    [-2, 3],\n",
        "    [0, 1],\n",
        "    [8, -4]\n",
        "])\n",
        "R = np.array([\n",
        "    [-2 , 0],\n",
        "    [2, 5],\n",
        "    [4, -3]    \n",
        "])\n",
        "V= np.array([\n",
        "    [-2 , 0, 2],\n",
        "    [2, 5, -6]\n",
        "])      \n",
        "print(N.shape)\n",
        "print(R.shape) \n",
        "print(V.shape)"
      ],
      "execution_count": 25,
      "outputs": [
        {
          "output_type": "stream",
          "name": "stdout",
          "text": [
            "(3, 2)\n",
            "(3, 2)\n",
            "(2, 3)\n"
          ]
        }
      ]
    },
    {
      "cell_type": "code",
      "metadata": {
        "colab": {
          "base_uri": "https://localhost:8080/"
        },
        "id": "m9hEwLLVR_ZX",
        "outputId": "ee2fbf20-21ae-4932-c8d4-7927e4853054"
      },
      "source": [
        "N @ V"
      ],
      "execution_count": 26,
      "outputs": [
        {
          "output_type": "execute_result",
          "data": {
            "text/plain": [
              "array([[ 10,  15, -22],\n",
              "       [  2,   5,  -6],\n",
              "       [-24, -20,  40]])"
            ]
          },
          "metadata": {},
          "execution_count": 26
        }
      ]
    },
    {
      "cell_type": "code",
      "metadata": {
        "colab": {
          "base_uri": "https://localhost:8080/"
        },
        "id": "zH9b2ns0SCLW",
        "outputId": "a6c24ef9-33d7-4961-a629-d4f9a1b1c5e3"
      },
      "source": [
        "R @ V"
      ],
      "execution_count": 27,
      "outputs": [
        {
          "output_type": "execute_result",
          "data": {
            "text/plain": [
              "array([[  4,   0,  -4],\n",
              "       [  6,  25, -26],\n",
              "       [-14, -15,  26]])"
            ]
          },
          "metadata": {},
          "execution_count": 27
        }
      ]
    },
    {
      "cell_type": "code",
      "metadata": {
        "id": "RN60q_F6SG6p",
        "colab": {
          "base_uri": "https://localhost:8080/"
        },
        "outputId": "837729e2-e910-4b17-9539-a4f8d2041e60"
      },
      "source": [
        "N = np.array([\n",
        "    [-2, 3, 4]\n",
        "]) \n",
        "R = np.array([\n",
        "    [-2, 3, 4]\n",
        "])\n",
        "print(N.shape)\n",
        "print(R.shape)\n",
        "\n",
        "   "
      ],
      "execution_count": 28,
      "outputs": [
        {
          "output_type": "stream",
          "name": "stdout",
          "text": [
            "(1, 3)\n",
            "(1, 3)\n"
          ]
        }
      ]
    },
    {
      "cell_type": "code",
      "metadata": {
        "colab": {
          "base_uri": "https://localhost:8080/"
        },
        "id": "oIZzWnL9SqS-",
        "outputId": "7a72fa35-be2a-4c58-e5c8-2db27755bccf"
      },
      "source": [
        "N.T @ R"
      ],
      "execution_count": 29,
      "outputs": [
        {
          "output_type": "execute_result",
          "data": {
            "text/plain": [
              "array([[ 4, -6, -8],\n",
              "       [-6,  9, 12],\n",
              "       [-8, 12, 16]])"
            ]
          },
          "metadata": {},
          "execution_count": 29
        }
      ]
    },
    {
      "cell_type": "code",
      "metadata": {
        "colab": {
          "base_uri": "https://localhost:8080/"
        },
        "id": "SoAxkMekSw92",
        "outputId": "914f1dfa-04af-4b19-e99e-86dd8f3bc11a"
      },
      "source": [
        "R @ N.T"
      ],
      "execution_count": 30,
      "outputs": [
        {
          "output_type": "execute_result",
          "data": {
            "text/plain": [
              "array([[29]])"
            ]
          },
          "metadata": {},
          "execution_count": 30
        }
      ]
    },
    {
      "cell_type": "code",
      "metadata": {
        "id": "jFmFP_jkZMbH",
        "colab": {
          "base_uri": "https://localhost:8080/"
        },
        "outputId": "5c461a2e-73e7-4b57-a815-bdd6bf77b71d"
      },
      "source": [
        "X = np.array([\n",
        "    [1,2,3,0]\n",
        "])\n",
        "Y = np.array([\n",
        "    [1,0,4,-1]\n",
        "])\n",
        "print(X.shape)\n",
        "print(Y.shape)"
      ],
      "execution_count": 31,
      "outputs": [
        {
          "output_type": "stream",
          "name": "stdout",
          "text": [
            "(1, 4)\n",
            "(1, 4)\n"
          ]
        }
      ]
    },
    {
      "cell_type": "code",
      "metadata": {
        "id": "WYC3L93XZNw9",
        "colab": {
          "base_uri": "https://localhost:8080/"
        },
        "outputId": "e05bebbd-be74-42ee-d8d2-82a790ddd9d2"
      },
      "source": [
        "Y.T @ X"
      ],
      "execution_count": 32,
      "outputs": [
        {
          "output_type": "execute_result",
          "data": {
            "text/plain": [
              "array([[ 1,  2,  3,  0],\n",
              "       [ 0,  0,  0,  0],\n",
              "       [ 4,  8, 12,  0],\n",
              "       [-1, -2, -3,  0]])"
            ]
          },
          "metadata": {},
          "execution_count": 32
        }
      ]
    },
    {
      "cell_type": "code",
      "metadata": {
        "id": "nWGO6aGxZQCA",
        "colab": {
          "base_uri": "https://localhost:8080/"
        },
        "outputId": "43a04c80-1200-40c4-87bc-eb26d98a8416"
      },
      "source": [
        "X @ Y.T"
      ],
      "execution_count": 33,
      "outputs": [
        {
          "output_type": "execute_result",
          "data": {
            "text/plain": [
              "array([[13]])"
            ]
          },
          "metadata": {},
          "execution_count": 33
        }
      ]
    },
    {
      "cell_type": "markdown",
      "metadata": {
        "id": "88gSim1iZSAF"
      },
      "source": [
        "**And you can see that when you try to multiply A and B, it returns ValueError pertaining to matrix shape mismatch.**"
      ]
    },
    {
      "cell_type": "markdown",
      "metadata": {
        "id": "k2c7TkJEZWWd"
      },
      "source": [
        "####**Rule 2: Dot Product has special properties**\n",
        "Dot products are prevalent in matrix algebra, this implies that it has several unique properties and it should be considered when formulation solutions:\n",
        "1. $A \\cdot B \\neq B \\cdot A$\n",
        "2. $A \\cdot (B \\cdot C) = (A \\cdot B) \\cdot C$\n",
        "3. $A\\cdot(B+C) = A\\cdot B + A\\cdot C$\n",
        "4. $(B+C)\\cdot A = B\\cdot A + C\\cdot A$\n",
        "5. $A\\cdot I = A$\n",
        "6. $A\\cdot \\emptyset = \\emptyset$"
      ]
    },
    {
      "cell_type": "code",
      "metadata": {
        "id": "elEq71MuZr8O"
      },
      "source": [
        "\n",
        "A = np.array([\n",
        "    [3,2,1],\n",
        "    [4,5,1],\n",
        "    [1,1,1]\n",
        "])\n",
        "B = np.array([\n",
        "    [4,1,6],\n",
        "    [4,1,9],\n",
        "    [1,4,8]\n",
        "])\n",
        "C = np.array([\n",
        "    [1,1,0],\n",
        "    [0,1,1],\n",
        "    [1,0,1]\n",
        "])"
      ],
      "execution_count": 34,
      "outputs": []
    },
    {
      "cell_type": "code",
      "metadata": {
        "id": "pbB3i-DgZtzV",
        "colab": {
          "base_uri": "https://localhost:8080/"
        },
        "outputId": "499e012a-ac66-4047-9f17-2e0cbf7861b3"
      },
      "source": [
        "np.eye(3)"
      ],
      "execution_count": 35,
      "outputs": [
        {
          "output_type": "execute_result",
          "data": {
            "text/plain": [
              "array([[1., 0., 0.],\n",
              "       [0., 1., 0.],\n",
              "       [0., 0., 1.]])"
            ]
          },
          "metadata": {},
          "execution_count": 35
        }
      ]
    },
    {
      "cell_type": "code",
      "metadata": {
        "id": "b0BFAE8dZv-v",
        "colab": {
          "base_uri": "https://localhost:8080/"
        },
        "outputId": "a3edffd8-688b-4799-e646-0ad173260b94"
      },
      "source": [
        "A.dot(np.eye(3))"
      ],
      "execution_count": 36,
      "outputs": [
        {
          "output_type": "execute_result",
          "data": {
            "text/plain": [
              "array([[3., 2., 1.],\n",
              "       [4., 5., 1.],\n",
              "       [1., 1., 1.]])"
            ]
          },
          "metadata": {},
          "execution_count": 36
        }
      ]
    },
    {
      "cell_type": "code",
      "metadata": {
        "id": "Pf4jNxk_Zxa1",
        "colab": {
          "base_uri": "https://localhost:8080/"
        },
        "outputId": "97d78d40-2dda-4c48-9fca-1fbc9f1312c3"
      },
      "source": [
        "np.array_equal(A@B, B@A)"
      ],
      "execution_count": 37,
      "outputs": [
        {
          "output_type": "execute_result",
          "data": {
            "text/plain": [
              "False"
            ]
          },
          "metadata": {},
          "execution_count": 37
        }
      ]
    },
    {
      "cell_type": "code",
      "metadata": {
        "id": "WQMYHQ5GZy43",
        "colab": {
          "base_uri": "https://localhost:8080/"
        },
        "outputId": "eb69344a-030e-4a1d-97fe-552096ab4e69"
      },
      "source": [
        "E = A @ (B @ C)\n",
        "E"
      ],
      "execution_count": 38,
      "outputs": [
        {
          "output_type": "execute_result",
          "data": {
            "text/plain": [
              "array([[ 65,  30,  53],\n",
              "       [114,  50,  90],\n",
              "       [ 32,  15,  29]])"
            ]
          },
          "metadata": {},
          "execution_count": 38
        }
      ]
    },
    {
      "cell_type": "code",
      "metadata": {
        "id": "MPRSi2XFZ0uV",
        "colab": {
          "base_uri": "https://localhost:8080/"
        },
        "outputId": "1427a4c5-1e30-42de-84a9-a6c9e73fe186"
      },
      "source": [
        "F = (A @ B) @ C\n",
        "F"
      ],
      "execution_count": 39,
      "outputs": [
        {
          "output_type": "execute_result",
          "data": {
            "text/plain": [
              "array([[ 65,  30,  53],\n",
              "       [114,  50,  90],\n",
              "       [ 32,  15,  29]])"
            ]
          },
          "metadata": {},
          "execution_count": 39
        }
      ]
    },
    {
      "cell_type": "code",
      "metadata": {
        "id": "Ms_5uSSmZ249",
        "colab": {
          "base_uri": "https://localhost:8080/"
        },
        "outputId": "b2326103-6a20-429f-b51f-1a335a3d084b"
      },
      "source": [
        "np.array_equal(E, X)"
      ],
      "execution_count": 40,
      "outputs": [
        {
          "output_type": "execute_result",
          "data": {
            "text/plain": [
              "False"
            ]
          },
          "metadata": {},
          "execution_count": 40
        }
      ]
    },
    {
      "cell_type": "code",
      "metadata": {
        "id": "sEIznzCGZ3cV",
        "colab": {
          "base_uri": "https://localhost:8080/"
        },
        "outputId": "382b8388-d029-44a4-a448-ff10fa1f4149"
      },
      "source": [
        "np.array_equiv(E, F)"
      ],
      "execution_count": 41,
      "outputs": [
        {
          "output_type": "execute_result",
          "data": {
            "text/plain": [
              "True"
            ]
          },
          "metadata": {},
          "execution_count": 41
        }
      ]
    },
    {
      "cell_type": "code",
      "metadata": {
        "id": "6SX-qw4NZ5Rn",
        "colab": {
          "base_uri": "https://localhost:8080/",
          "height": 282
        },
        "outputId": "78958e88-44e8-40f7-9fce-9b11edde138b"
      },
      "source": [
        "np.eye(A)"
      ],
      "execution_count": 42,
      "outputs": [
        {
          "output_type": "error",
          "ename": "TypeError",
          "evalue": "ignored",
          "traceback": [
            "\u001b[0;31m---------------------------------------------------------------------------\u001b[0m",
            "\u001b[0;31mTypeError\u001b[0m                                 Traceback (most recent call last)",
            "\u001b[0;32m<ipython-input-42-13ff6dcd75e1>\u001b[0m in \u001b[0;36m<module>\u001b[0;34m()\u001b[0m\n\u001b[0;32m----> 1\u001b[0;31m \u001b[0mnp\u001b[0m\u001b[0;34m.\u001b[0m\u001b[0meye\u001b[0m\u001b[0;34m(\u001b[0m\u001b[0mA\u001b[0m\u001b[0;34m)\u001b[0m\u001b[0;34m\u001b[0m\u001b[0;34m\u001b[0m\u001b[0m\n\u001b[0m",
            "\u001b[0;32m/usr/local/lib/python3.7/dist-packages/numpy/lib/twodim_base.py\u001b[0m in \u001b[0;36meye\u001b[0;34m(N, M, k, dtype, order)\u001b[0m\n\u001b[1;32m    197\u001b[0m     \u001b[0;32mif\u001b[0m \u001b[0mM\u001b[0m \u001b[0;32mis\u001b[0m \u001b[0;32mNone\u001b[0m\u001b[0;34m:\u001b[0m\u001b[0;34m\u001b[0m\u001b[0;34m\u001b[0m\u001b[0m\n\u001b[1;32m    198\u001b[0m         \u001b[0mM\u001b[0m \u001b[0;34m=\u001b[0m \u001b[0mN\u001b[0m\u001b[0;34m\u001b[0m\u001b[0;34m\u001b[0m\u001b[0m\n\u001b[0;32m--> 199\u001b[0;31m     \u001b[0mm\u001b[0m \u001b[0;34m=\u001b[0m \u001b[0mzeros\u001b[0m\u001b[0;34m(\u001b[0m\u001b[0;34m(\u001b[0m\u001b[0mN\u001b[0m\u001b[0;34m,\u001b[0m \u001b[0mM\u001b[0m\u001b[0;34m)\u001b[0m\u001b[0;34m,\u001b[0m \u001b[0mdtype\u001b[0m\u001b[0;34m=\u001b[0m\u001b[0mdtype\u001b[0m\u001b[0;34m,\u001b[0m \u001b[0morder\u001b[0m\u001b[0;34m=\u001b[0m\u001b[0morder\u001b[0m\u001b[0;34m)\u001b[0m\u001b[0;34m\u001b[0m\u001b[0;34m\u001b[0m\u001b[0m\n\u001b[0m\u001b[1;32m    200\u001b[0m     \u001b[0;32mif\u001b[0m \u001b[0mk\u001b[0m \u001b[0;34m>=\u001b[0m \u001b[0mM\u001b[0m\u001b[0;34m:\u001b[0m\u001b[0;34m\u001b[0m\u001b[0;34m\u001b[0m\u001b[0m\n\u001b[1;32m    201\u001b[0m         \u001b[0;32mreturn\u001b[0m \u001b[0mm\u001b[0m\u001b[0;34m\u001b[0m\u001b[0;34m\u001b[0m\u001b[0m\n",
            "\u001b[0;31mTypeError\u001b[0m: only integer scalar arrays can be converted to a scalar index"
          ]
        }
      ]
    },
    {
      "cell_type": "code",
      "metadata": {
        "id": "CO1ovOk2Z7dd",
        "colab": {
          "base_uri": "https://localhost:8080/"
        },
        "outputId": "a53cd5c9-edb3-49d0-9d7f-8d161f6f9aa5"
      },
      "source": [
        "A @ E"
      ],
      "execution_count": 43,
      "outputs": [
        {
          "output_type": "execute_result",
          "data": {
            "text/plain": [
              "array([[455, 205, 368],\n",
              "       [862, 385, 691],\n",
              "       [211,  95, 172]])"
            ]
          },
          "metadata": {},
          "execution_count": 43
        }
      ]
    },
    {
      "cell_type": "code",
      "metadata": {
        "id": "z65_zceoZ8E9",
        "colab": {
          "base_uri": "https://localhost:8080/"
        },
        "outputId": "4b88198f-595a-467a-8986-30620fc22f9f"
      },
      "source": [
        "z_mat = np.zeros(A.shape)\n",
        "z_mat"
      ],
      "execution_count": 44,
      "outputs": [
        {
          "output_type": "execute_result",
          "data": {
            "text/plain": [
              "array([[0., 0., 0.],\n",
              "       [0., 0., 0.],\n",
              "       [0., 0., 0.]])"
            ]
          },
          "metadata": {},
          "execution_count": 44
        }
      ]
    },
    {
      "cell_type": "code",
      "metadata": {
        "id": "_VNoWEZMZ94F",
        "colab": {
          "base_uri": "https://localhost:8080/"
        },
        "outputId": "6a22adef-eb1c-442a-e657-1c3cea0fafee"
      },
      "source": [
        "a_dot_z = A.dot(np.zeros(A.shape))\n",
        "a_dot_z"
      ],
      "execution_count": 45,
      "outputs": [
        {
          "output_type": "execute_result",
          "data": {
            "text/plain": [
              "array([[0., 0., 0.],\n",
              "       [0., 0., 0.],\n",
              "       [0., 0., 0.]])"
            ]
          },
          "metadata": {},
          "execution_count": 45
        }
      ]
    },
    {
      "cell_type": "code",
      "metadata": {
        "id": "HWSkXvEHZ_hU",
        "colab": {
          "base_uri": "https://localhost:8080/"
        },
        "outputId": "3f4c8a5f-f119-4696-e6cf-e6f4340c21f1"
      },
      "source": [
        "np.array_equal(a_dot_z,z_mat)"
      ],
      "execution_count": 46,
      "outputs": [
        {
          "output_type": "execute_result",
          "data": {
            "text/plain": [
              "True"
            ]
          },
          "metadata": {},
          "execution_count": 46
        }
      ]
    },
    {
      "cell_type": "code",
      "metadata": {
        "id": "AkPP2_idaBMd",
        "colab": {
          "base_uri": "https://localhost:8080/"
        },
        "outputId": "ff6e235d-98c6-46bc-bfec-a763b2b7f797"
      },
      "source": [
        "null_mat = np.empty(A.shape, dtype=float)\n",
        "null = np.array(null_mat,dtype=float)\n",
        "print(null)\n",
        "np.allclose(a_dot_z,null)"
      ],
      "execution_count": 47,
      "outputs": [
        {
          "output_type": "stream",
          "name": "stdout",
          "text": [
            "[[0. 0. 0.]\n",
            " [0. 0. 0.]\n",
            " [0. 0. 0.]]\n"
          ]
        },
        {
          "output_type": "execute_result",
          "data": {
            "text/plain": [
              "True"
            ]
          },
          "metadata": {},
          "execution_count": 47
        }
      ]
    },
    {
      "cell_type": "markdown",
      "metadata": {
        "id": "9Z8RlPrNaLIz"
      },
      "source": [
        "#### **Determinant** \n",
        "\n",
        "A determinant is a scalar value derived from a square matrix. The determinant is a fundamental and important value used in matrix algebra. Although it will not be evident in this laboratory on how it can be used practically, but it will be reatly used in future lessons.\n",
        "\n",
        "The determinant of some matrix $A$ is denoted as $det(A)$ or $|A|$. So let's say $A$ is represented as:\n",
        "\n",
        "$$\n",
        "A = \\begin{bmatrix}a_{(0,0)}&amp;a_{(0,1)}\\\\a_{(1,0)}&amp;a_{(1,1)}\\end{bmatrix}\n",
        "$$\n",
        "\n",
        "We can compute for the determinant as:\n",
        "$$\n",
        "|A| = a_{(0,0)}*a_{(1,1)} - a_{(1,0)}*a_{(0,1)}\n",
        "$$\n",
        "\n",
        "So if we have $A$ as:\n",
        "$$\n",
        "A = \\begin{bmatrix}1&amp;4\\\\0&amp;3\\end{bmatrix}, |A| = 3\n",
        "$$\n",
        "\n",
        "But you might wonder how about square matrices beyond the shape $(2,2)$? We can approach this problem by using several methods such as co-factor expansion and the minors method. This can be taught in the lecture of the laboratory but we can achieve the strenuous computation of high-dimensional matrices programmatically using Python. We can achieve this by using np.linalg.det().\n"
      ]
    },
    {
      "cell_type": "code",
      "metadata": {
        "colab": {
          "base_uri": "https://localhost:8080/"
        },
        "id": "XpOKFjOTZEb3",
        "outputId": "15048ab7-afc6-4af5-fe6c-e500f4f9fc3c"
      },
      "source": [
        "A = np.array ([\n",
        "    [1,4],\n",
        "    [0,3]       \n",
        "])\n",
        "np.linalg.det(A)"
      ],
      "execution_count": 48,
      "outputs": [
        {
          "output_type": "execute_result",
          "data": {
            "text/plain": [
              "3.0000000000000004"
            ]
          },
          "metadata": {},
          "execution_count": 48
        }
      ]
    },
    {
      "cell_type": "code",
      "metadata": {
        "colab": {
          "base_uri": "https://localhost:8080/"
        },
        "id": "JiCp1s7aZqJD",
        "outputId": "f5e66cbe-e73f-414f-f2d8-f7c66911779b"
      },
      "source": [
        "B = np.array ([\n",
        "    [1,5,2],\n",
        "    [3,-1,-1],\n",
        "    [0,-2,1]       \n",
        "])\n",
        "np.linalg.det(A)"
      ],
      "execution_count": 49,
      "outputs": [
        {
          "output_type": "execute_result",
          "data": {
            "text/plain": [
              "3.0000000000000004"
            ]
          },
          "metadata": {},
          "execution_count": 49
        }
      ]
    },
    {
      "cell_type": "code",
      "metadata": {
        "id": "s0DBcwtZaqqG",
        "colab": {
          "base_uri": "https://localhost:8080/"
        },
        "outputId": "93c4f5eb-b5ae-4851-f0ee-e67ce9356c21"
      },
      "source": [
        "B = np.array([\n",
        "    [1,3,5,6],\n",
        "    [0,3,1,3],\n",
        "    [3,1,8,2],\n",
        "    [5,2,6,8]\n",
        "])\n",
        "np.linalg.det(B)"
      ],
      "execution_count": 50,
      "outputs": [
        {
          "output_type": "execute_result",
          "data": {
            "text/plain": [
              "-235.0000000000002"
            ]
          },
          "metadata": {},
          "execution_count": 50
        }
      ]
    },
    {
      "cell_type": "markdown",
      "metadata": {
        "id": "B-ps6T2fav6N"
      },
      "source": [
        "Inverse\n",
        "The inverse of a matrix is another fundamental operation in matrix algebra. Determining the inverse of a matrix let us determine if its solvability and its characteristic as a system of linear equation — we'll expand on this in the nect module. Another use of the inverse matrix is solving the problem of divisibility between matrices. Although element-wise division exists but dividing the entire concept of matrices does not exists. Inverse matrices provides a related operation that could have the same concept of \"dividing\" matrices.\n",
        "\n",
        "Now to determine the inverse of a matrix we need to perform several steps. So let's say we have a matrix $M$:\n",
        "$$\n",
        "M = \\begin{bmatrix}1&7\\\\-3&5\\end{bmatrix}\n",
        "$$\n",
        "\n",
        "First, we need to get the determinant of $M$.\n",
        "$$\n",
        "|M| = (1)(5)-(-3)(7) = 26\n",
        "$$\n",
        "\n",
        "Next, we need to reform the matrix into the inverse form:\n",
        "$$\n",
        "M^{-1} = \\frac{1}{|M|} \\begin{bmatrix} m_{(1,1)} & -m_{(0,1)} \\\\ -m_{(1,0)} &; m_{(0,0)}\\end{bmatrix}\n",
        "$$\n",
        "\n",
        "So that will be:\n",
        "$$\n",
        "M^{-1} = \\frac{1}{26} \\begin{bmatrix} 5 & -7 \\\\ 3 & 1\\end{bmatrix} = \\begin{bmatrix} \\frac{5}{26} & \\frac{-7}{26} \\\\ \\frac{3}{26} & \\frac{1}{26}\\end{bmatrix}\n",
        "$$\n",
        "\n",
        "For higher-dimension matrices you might need to use co-factors, minors, adjugates, and other reduction techinques. To solve this programmatially we can use np.linalg.inv()."
      ]
    },
    {
      "cell_type": "code",
      "metadata": {
        "id": "nXOY9o02bNZH",
        "colab": {
          "base_uri": "https://localhost:8080/"
        },
        "outputId": "de1da2d2-49be-43c3-e121-e466f79e9054"
      },
      "source": [
        "M = np.array([\n",
        "    [1,7],\n",
        "    [-3, 5]\n",
        "])\n",
        "\n",
        "np.array(M @ np.linalg.inv(M), dtype=int)"
      ],
      "execution_count": 51,
      "outputs": [
        {
          "output_type": "execute_result",
          "data": {
            "text/plain": [
              "array([[1, 0],\n",
              "       [0, 1]])"
            ]
          },
          "metadata": {},
          "execution_count": 51
        }
      ]
    },
    {
      "cell_type": "code",
      "metadata": {
        "id": "DMY-aODqbOI0",
        "colab": {
          "base_uri": "https://localhost:8080/"
        },
        "outputId": "ded3f388-17a9-42be-ee91-fa7b9d3cc85b"
      },
      "source": [
        "P = np.array([\n",
        "              [6, 9, 0],\n",
        "              [4, 2, -1],\n",
        "              [3, 6, 7]\n",
        "])\n",
        "Q = np.linalg.inv(P)\n",
        "Q"
      ],
      "execution_count": 52,
      "outputs": [
        {
          "output_type": "execute_result",
          "data": {
            "text/plain": [
              "array([[-0.12578616,  0.39622642,  0.05660377],\n",
              "       [ 0.19496855, -0.26415094, -0.03773585],\n",
              "       [-0.11320755,  0.05660377,  0.1509434 ]])"
            ]
          },
          "metadata": {},
          "execution_count": 52
        }
      ]
    },
    {
      "cell_type": "code",
      "metadata": {
        "id": "cY3llcpObQCs",
        "colab": {
          "base_uri": "https://localhost:8080/"
        },
        "outputId": "996745c1-d1c7-4b99-e252-a06d4ee93c7c"
      },
      "source": [
        "P @ Q"
      ],
      "execution_count": 54,
      "outputs": [
        {
          "output_type": "execute_result",
          "data": {
            "text/plain": [
              "array([[ 1.00000000e+00, -5.55111512e-17, -6.93889390e-18],\n",
              "       [ 8.32667268e-17,  1.00000000e+00, -2.77555756e-17],\n",
              "       [ 2.77555756e-17, -1.38777878e-17,  1.00000000e+00]])"
            ]
          },
          "metadata": {},
          "execution_count": 54
        }
      ]
    },
    {
      "cell_type": "code",
      "metadata": {
        "id": "Dd0Mh0nbbRcO",
        "colab": {
          "base_uri": "https://localhost:8080/"
        },
        "outputId": "dfa723b4-ab64-4f17-c3e4-76853874177f"
      },
      "source": [
        "N = np.array([\n",
        "    [18,5,23,1,0,33,5],\n",
        "    [0,45,0,11,2,4,2],\n",
        "    [5,9,20,0,0,0,3],\n",
        "    [1,6,4,4,8,43,1],\n",
        "    [8,6,8,7,1,6,1],\n",
        "    [-5,15,2,0,0,6,-30],\n",
        "    [-2,-5,1,2,1,20,12],\n",
        "])\n",
        "N_inv = np.linalg.inv(N)\n",
        "np.array(N @ N_inv,dtype=int)"
      ],
      "execution_count": 53,
      "outputs": [
        {
          "output_type": "execute_result",
          "data": {
            "text/plain": [
              "array([[0, 0, 0, 0, 0, 0, 0],\n",
              "       [0, 0, 0, 0, 0, 0, 0],\n",
              "       [0, 0, 1, 0, 0, 0, 0],\n",
              "       [0, 0, 0, 1, 0, 0, 0],\n",
              "       [0, 0, 0, 0, 0, 0, 0],\n",
              "       [0, 0, 0, 0, 0, 0, 0],\n",
              "       [0, 0, 0, 0, 0, 0, 1]])"
            ]
          },
          "metadata": {},
          "execution_count": 53
        }
      ]
    },
    {
      "cell_type": "markdown",
      "metadata": {
        "id": "9T0FDWGmbWBF"
      },
      "source": [
        "To validate the wether if the matric that you have solved is really the inverse, we follow this dot product property for a matrix $M$:\n",
        "\n",
        "$$\n",
        "M\\cdot M^{-1} = I\n",
        "$$"
      ]
    },
    {
      "cell_type": "code",
      "metadata": {
        "id": "aD2FqGYUbaA1",
        "colab": {
          "base_uri": "https://localhost:8080/"
        },
        "outputId": "fdf3df46-f497-4a64-ae57-0ef16dd981b1"
      },
      "source": [
        "squad = np.array([\n",
        "    [1.0, 1.0, 0.5],\n",
        "    [0.7, 0.7, 0.9],\n",
        "    [0.3, 0.3, 1.0]\n",
        "])\n",
        "weights = np.array([\n",
        "    [0.2, 0.2, 0.6]\n",
        "])\n",
        "p_grade = squad @ weights.T\n",
        "p_grade"
      ],
      "execution_count": 55,
      "outputs": [
        {
          "output_type": "execute_result",
          "data": {
            "text/plain": [
              "array([[0.7 ],\n",
              "       [0.82],\n",
              "       [0.72]])"
            ]
          },
          "metadata": {},
          "execution_count": 55
        }
      ]
    },
    {
      "cell_type": "markdown",
      "metadata": {
        "id": "Cxt0K0e3bb8g"
      },
      "source": [
        "###**Activity**\n",
        "####**Task 1**\n",
        "Prove and implement the remaining 6 matrix multiplication properties. You may create your own matrices in which their shapes should not be lower than $(3,3)$. In your methodology, create individual flowcharts for each property and discuss the property you would then present your proofs or validity of your implementation in the results section by comparing your result to present functions from NumPy."
      ]
    },
    {
      "cell_type": "code",
      "metadata": {
        "id": "0-T4VS3jblSW"
      },
      "source": [
        "X = np.array([\n",
        "          [2,6,7],\n",
        "          [3,4,8],\n",
        "          [0,9,2]\n",
        "])\n",
        "Y = np.array([\n",
        "          [1,3,4],\n",
        "          [2,6,4],\n",
        "          [3,6,1]\n",
        "])\n",
        "\n",
        "Z = np.array([\n",
        "          [0,2,3],\n",
        "          [9,7,4],\n",
        "          [6,3,2]\n",
        "])"
      ],
      "execution_count": 56,
      "outputs": []
    },
    {
      "cell_type": "code",
      "metadata": {
        "id": "u_vQ53ZjbmzO",
        "colab": {
          "base_uri": "https://localhost:8080/"
        },
        "outputId": "dee081f6-e3d3-4dcc-d379-0f2d6eca2013"
      },
      "source": [
        "X1 = X @ Y\n",
        "X1"
      ],
      "execution_count": 57,
      "outputs": [
        {
          "output_type": "execute_result",
          "data": {
            "text/plain": [
              "array([[35, 84, 39],\n",
              "       [35, 81, 36],\n",
              "       [24, 66, 38]])"
            ]
          },
          "metadata": {},
          "execution_count": 57
        }
      ]
    },
    {
      "cell_type": "code",
      "metadata": {
        "id": "a1uiybjHboQB",
        "colab": {
          "base_uri": "https://localhost:8080/"
        },
        "outputId": "08b38939-85cd-44d6-91fc-976aeba6c7bd"
      },
      "source": [
        "Y1 = Y @ X\n",
        "Y1"
      ],
      "execution_count": 58,
      "outputs": [
        {
          "output_type": "execute_result",
          "data": {
            "text/plain": [
              "array([[11, 54, 39],\n",
              "       [22, 72, 70],\n",
              "       [24, 51, 71]])"
            ]
          },
          "metadata": {},
          "execution_count": 58
        }
      ]
    },
    {
      "cell_type": "code",
      "metadata": {
        "id": "UDuYolluboIu",
        "colab": {
          "base_uri": "https://localhost:8080/"
        },
        "outputId": "e4325676-a368-4789-d138-a6bd3eeffbda"
      },
      "source": [
        "np.array_equiv(X1,Y1)"
      ],
      "execution_count": 59,
      "outputs": [
        {
          "output_type": "execute_result",
          "data": {
            "text/plain": [
              "False"
            ]
          },
          "metadata": {},
          "execution_count": 59
        }
      ]
    },
    {
      "cell_type": "code",
      "metadata": {
        "id": "kRb2sI15bn-B"
      },
      "source": [
        "X2 = X @ (Y @ Z)"
      ],
      "execution_count": 60,
      "outputs": []
    },
    {
      "cell_type": "code",
      "metadata": {
        "id": "KOPhL728bnuq"
      },
      "source": [
        "Y2 = (X @ Y) @ Z"
      ],
      "execution_count": 61,
      "outputs": []
    },
    {
      "cell_type": "code",
      "metadata": {
        "colab": {
          "base_uri": "https://localhost:8080/"
        },
        "id": "bjVCregMTiGP",
        "outputId": "bf7402de-843a-4eb0-aff0-3e01299bb999"
      },
      "source": [
        "np.array_equal(X2,Y2)"
      ],
      "execution_count": 62,
      "outputs": [
        {
          "output_type": "execute_result",
          "data": {
            "text/plain": [
              "True"
            ]
          },
          "metadata": {},
          "execution_count": 62
        }
      ]
    },
    {
      "cell_type": "code",
      "metadata": {
        "colab": {
          "base_uri": "https://localhost:8080/"
        },
        "id": "jpGY1mZvTpVp",
        "outputId": "3a597647-1d50-437a-d13b-69b7e495d9dc"
      },
      "source": [
        "X3 = X @ (Y + Z)\n",
        "X3"
      ],
      "execution_count": 63,
      "outputs": [
        {
          "output_type": "execute_result",
          "data": {
            "text/plain": [
              "array([[131, 151,  83],\n",
              "       [119, 139,  77],\n",
              "       [117, 135,  78]])"
            ]
          },
          "metadata": {},
          "execution_count": 63
        }
      ]
    },
    {
      "cell_type": "code",
      "metadata": {
        "colab": {
          "base_uri": "https://localhost:8080/"
        },
        "id": "sx_EPXpUTpTH",
        "outputId": "d692d0fa-3434-4672-ee90-571f83710cc9"
      },
      "source": [
        "Y3 = X @ Y + X @ Z\n",
        "Y3"
      ],
      "execution_count": 64,
      "outputs": [
        {
          "output_type": "execute_result",
          "data": {
            "text/plain": [
              "array([[131, 151,  83],\n",
              "       [119, 139,  77],\n",
              "       [117, 135,  78]])"
            ]
          },
          "metadata": {},
          "execution_count": 64
        }
      ]
    },
    {
      "cell_type": "code",
      "metadata": {
        "colab": {
          "base_uri": "https://localhost:8080/"
        },
        "id": "1wZX9xzDTpQe",
        "outputId": "2ba60402-6efd-4e5d-fe0e-0233d3bd222d"
      },
      "source": [
        "np.array_equal(X3,Y3)"
      ],
      "execution_count": 65,
      "outputs": [
        {
          "output_type": "execute_result",
          "data": {
            "text/plain": [
              "True"
            ]
          },
          "metadata": {},
          "execution_count": 65
        }
      ]
    },
    {
      "cell_type": "code",
      "metadata": {
        "id": "zl9Z1WzOTpJf"
      },
      "source": [
        "X4 = (Y + Z) @ X"
      ],
      "execution_count": 66,
      "outputs": []
    },
    {
      "cell_type": "code",
      "metadata": {
        "colab": {
          "base_uri": "https://localhost:8080/"
        },
        "id": "SCK7MReyTpAW",
        "outputId": "73c01dac-8f74-4a07-d2a7-52b835b088e0"
      },
      "source": [
        "Y4 = Y @ X + Z @ X\n",
        "Y4"
      ],
      "execution_count": 67,
      "outputs": [
        {
          "output_type": "execute_result",
          "data": {
            "text/plain": [
              "array([[ 17,  89,  61],\n",
              "       [ 61, 190, 197],\n",
              "       [ 45, 117, 141]])"
            ]
          },
          "metadata": {},
          "execution_count": 67
        }
      ]
    },
    {
      "cell_type": "code",
      "metadata": {
        "colab": {
          "base_uri": "https://localhost:8080/"
        },
        "id": "-6ywb0xMToxP",
        "outputId": "9d459e34-2e60-4de1-856c-870f5b70ecde"
      },
      "source": [
        "np.array_equal(X4,Y4)"
      ],
      "execution_count": 68,
      "outputs": [
        {
          "output_type": "execute_result",
          "data": {
            "text/plain": [
              "True"
            ]
          },
          "metadata": {},
          "execution_count": 68
        }
      ]
    },
    {
      "cell_type": "code",
      "metadata": {
        "colab": {
          "base_uri": "https://localhost:8080/"
        },
        "id": "mesrisGDVE2P",
        "outputId": "45c9848c-b26a-4bda-e862-b1e3df38a28d"
      },
      "source": [
        "X5 = X @ Y5\n",
        "X5"
      ],
      "execution_count": 72,
      "outputs": [
        {
          "output_type": "execute_result",
          "data": {
            "text/plain": [
              "array([[2., 6., 7.],\n",
              "       [3., 4., 8.],\n",
              "       [0., 9., 2.]])"
            ]
          },
          "metadata": {},
          "execution_count": 72
        }
      ]
    },
    {
      "cell_type": "code",
      "metadata": {
        "colab": {
          "base_uri": "https://localhost:8080/"
        },
        "id": "iPxhhFobVEzy",
        "outputId": "de645b81-8e93-442a-96d7-58b0204dc6f1"
      },
      "source": [
        "Y5 = np.eye(3)\n",
        "Y5"
      ],
      "execution_count": 71,
      "outputs": [
        {
          "output_type": "execute_result",
          "data": {
            "text/plain": [
              "array([[1., 0., 0.],\n",
              "       [0., 1., 0.],\n",
              "       [0., 0., 1.]])"
            ]
          },
          "metadata": {},
          "execution_count": 71
        }
      ]
    },
    {
      "cell_type": "code",
      "metadata": {
        "colab": {
          "base_uri": "https://localhost:8080/"
        },
        "id": "XpY-rIr5VEw7",
        "outputId": "7c049df0-8b48-428b-8705-b6916aaa33c3"
      },
      "source": [
        "np.array_equal(X5,Y5)"
      ],
      "execution_count": 74,
      "outputs": [
        {
          "output_type": "execute_result",
          "data": {
            "text/plain": [
              "False"
            ]
          },
          "metadata": {},
          "execution_count": 74
        }
      ]
    },
    {
      "cell_type": "code",
      "metadata": {
        "colab": {
          "base_uri": "https://localhost:8080/"
        },
        "id": "izsBMBTJVEua",
        "outputId": "8c293e89-854d-48c9-b8b5-f7a84e7c7588"
      },
      "source": [
        "X6 = np.zeros(X.shape)\n",
        "X6"
      ],
      "execution_count": 73,
      "outputs": [
        {
          "output_type": "execute_result",
          "data": {
            "text/plain": [
              "array([[0., 0., 0.],\n",
              "       [0., 0., 0.],\n",
              "       [0., 0., 0.]])"
            ]
          },
          "metadata": {},
          "execution_count": 73
        }
      ]
    },
    {
      "cell_type": "code",
      "metadata": {
        "colab": {
          "base_uri": "https://localhost:8080/"
        },
        "id": "fm3FE53oVEma",
        "outputId": "e303df14-b18f-4c4e-f0c2-79fad5697638"
      },
      "source": [
        "Y6 = X.dot(np.zeros(X.shape))\n",
        "Y6"
      ],
      "execution_count": 75,
      "outputs": [
        {
          "output_type": "execute_result",
          "data": {
            "text/plain": [
              "array([[0., 0., 0.],\n",
              "       [0., 0., 0.],\n",
              "       [0., 0., 0.]])"
            ]
          },
          "metadata": {},
          "execution_count": 75
        }
      ]
    },
    {
      "cell_type": "code",
      "metadata": {
        "colab": {
          "base_uri": "https://localhost:8080/"
        },
        "id": "VVbV_I29VTK0",
        "outputId": "e48d4c96-190f-42c4-d15d-4887bfd051a3"
      },
      "source": [
        "np.array_equal(X6,Y6)"
      ],
      "execution_count": 76,
      "outputs": [
        {
          "output_type": "execute_result",
          "data": {
            "text/plain": [
              "True"
            ]
          },
          "metadata": {},
          "execution_count": 76
        }
      ]
    },
    {
      "cell_type": "markdown",
      "metadata": {
        "id": "_KUtERPxbpCV"
      },
      "source": [
        "##**Conclusion**\n",
        "*For your conclusion synthesize the concept and application of the laboratory. Briefly discuss what you have learned and achieved in this activity.*\n",
        "\n",
        "\n",
        "This laboratory aims to broaden the knowledge of each students not just the basics but also the complex commands that can help us engineering students. I therefor conclude that i am familiarized with the matrix operations as well as i am practiced how to use and create different shapes of matrices and apply a various operations on it. I learned that you can use a single matrix but can be applied on different operations, so that you can get various results such as dot product, determinants, inverse and many more. All you have to remember is their respective command and proper execution."
      ]
    }
  ]
}